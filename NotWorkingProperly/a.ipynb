{
 "cells": [
  {
   "cell_type": "code",
   "execution_count": null,
   "id": "initial_id",
   "metadata": {
    "collapsed": true
   },
   "outputs": [],
   "source": [
    "import pandas as pd\n"
   ]
  },
  {
   "cell_type": "code",
   "execution_count": null,
   "outputs": [],
   "source": [
    "import pandas as pd\n",
    "df = pd.read_csv('')"
   ],
   "metadata": {
    "collapsed": false
   },
   "id": "da4e25373bd14718"
  },
  {
   "cell_type": "code",
   "execution_count": 1,
   "outputs": [
    {
     "name": "stderr",
     "output_type": "stream",
     "text": [
      "C:\\Users\\Admin\\AppData\\Local\\Temp\\ipykernel_8892\\3558316516.py:3: DtypeWarning: Columns (128) have mixed types. Specify dtype option on import or set low_memory=False.\n",
      "  combined_football_data = pd.read_csv('combined_football_data.csv')\n"
     ]
    },
    {
     "data": {
      "text/plain": "<bound method DataFrame.info of       Div        Date    HomeTeam         AwayTeam  FTHG  FTAG FTR  HTHG  \\\n0      E0    19/08/00    Charlton  Manchester City   4.0   0.0   H   2.0   \n1      E0    19/08/00     Chelsea         West Ham   4.0   2.0   H   1.0   \n2      E0    19/08/00    Coventry    Middlesbrough   1.0   3.0   A   1.0   \n3      E0    19/08/00       Derby      Southampton   2.0   2.0   D   1.0   \n4      E0    19/08/00       Leeds          Everton   2.0   0.0   H   2.0   \n...    ..         ...         ...              ...   ...   ...  ..   ...   \n40732  F1  15/03/2025        Lens           Rennes   1.0   0.0   H   0.0   \n40733  F1  16/03/2025        Lyon         Le Havre   4.0   2.0   H   1.0   \n40734  F1  16/03/2025       Brest            Reims   0.0   0.0   D   0.0   \n40735  F1  16/03/2025  Strasbourg         Toulouse   2.0   1.0   H   0.0   \n40736  F1  16/03/2025    Paris SG        Marseille   3.0   1.0   H   2.0   \n\n       HTAG HTR  ...  1XBCH 1XBCD  1XBCA  BFECH  BFECD  BFECA  BFEC>2.5  \\\n0       0.0   H  ...    NaN   NaN    NaN    NaN    NaN    NaN       NaN   \n1       0.0   H  ...    NaN   NaN    NaN    NaN    NaN    NaN       NaN   \n2       1.0   D  ...    NaN   NaN    NaN    NaN    NaN    NaN       NaN   \n3       2.0   A  ...    NaN   NaN    NaN    NaN    NaN    NaN       NaN   \n4       0.0   H  ...    NaN   NaN    NaN    NaN    NaN    NaN       NaN   \n...     ...  ..  ...    ...   ...    ...    ...    ...    ...       ...   \n40732   0.0   D  ...   2.10  3.49   3.75   2.08    3.6    4.1      2.10   \n40733   2.0   A  ...   1.30  6.63   9.19   1.29    7.0   11.0      1.50   \n40734   0.0   D  ...   1.68  3.87   5.64   1.72    3.9    6.0      2.06   \n40735   1.0   A  ...   2.59  3.28   2.94   2.74    3.4    2.9      2.12   \n40736   0.0   H  ...   1.37  5.79   8.70   1.36    5.9   10.0      1.53   \n\n       BFEC<2.5  BFECAHH  BFECAHA  \n0           NaN      NaN      NaN  \n1           NaN      NaN      NaN  \n2           NaN      NaN      NaN  \n3           NaN      NaN      NaN  \n4           NaN      NaN      NaN  \n...         ...      ...      ...  \n40732      1.88     2.08     1.91  \n40733      2.98     1.98     1.97  \n40734      1.92     1.91     2.07  \n40735      1.87     1.94     2.05  \n40736      2.86     1.98     1.98  \n\n[40737 rows x 212 columns]>"
     },
     "execution_count": 1,
     "metadata": {},
     "output_type": "execute_result"
    }
   ],
   "source": [
    "import pandas as pd\n",
    "        \n",
    "combined_football_data = pd.read_csv('combined_football_data.csv')\n",
    "combined_football_data.info\n"
   ],
   "metadata": {
    "collapsed": false,
    "ExecuteTime": {
     "end_time": "2025-04-04T21:42:03.854328600Z",
     "start_time": "2025-04-04T21:42:02.321354500Z"
    }
   },
   "id": "69ade1dbe7421f03"
  },
  {
   "cell_type": "code",
   "execution_count": 2,
   "outputs": [
    {
     "data": {
      "text/plain": "               FTHG          FTAG          HTHG         HTAG    Attendance  \\\ncount  40509.000000  40509.000000  40505.000000  40505.00000    548.000000   \nmean       1.530030      1.164828      0.679175      0.50853  33245.888686   \nstd        1.284624      1.135533      0.829326      0.72161  12407.848187   \nmin        0.000000      0.000000      0.000000      0.00000  14651.000000   \n25%        1.000000      0.000000      0.000000      0.00000  22523.250000   \n50%        1.000000      1.000000      0.000000      0.00000  32591.500000   \n75%        2.000000      2.000000      1.000000      1.00000  39179.000000   \nmax       10.000000      9.000000      6.000000      6.00000  67651.000000   \n\n                 HS            AS           HST           AST         HHW  \\\ncount  37061.000000  37061.000000  36449.000000  36449.000000  549.000000   \nmean      13.731092     11.058876      5.204176      4.143159    0.369763   \nstd        5.177664      4.581803      2.803673      2.442114    0.618950   \nmin        0.000000      0.000000      0.000000      0.000000    0.000000   \n25%       10.000000      8.000000      3.000000      2.000000    0.000000   \n50%       13.000000     11.000000      5.000000      4.000000    0.000000   \n75%       17.000000     14.000000      7.000000      6.000000    1.000000   \nmax       46.000000     39.000000     24.000000     20.000000    4.000000   \n\n       ...        1XBCH        1XBCD        1XBCA        BFECH        BFECD  \\\ncount  ...  1325.000000  1325.000000  1325.000000  1325.000000  1325.000000   \nmean   ...     2.861343     4.165094     4.503389     2.965192     4.265894   \nstd    ...     1.794315     1.381856     3.517573     2.083346     1.600054   \nmin    ...     1.040000     2.600000     1.180000     1.040000     2.660000   \n25%    ...     1.700000     3.400000     2.240000     1.720000     3.450000   \n50%    ...     2.270000     3.760000     3.430000     2.320000     3.750000   \n75%    ...     3.410000     4.410000     5.350000     3.450000     4.500000   \nmax    ...    16.700000    19.000000    29.000000    26.000000    29.000000   \n\n             BFECA     BFEC>2.5     BFEC<2.5      BFECAHH      BFECAHA  \ncount  1325.000000  1325.000000  1325.000000  1325.000000  1325.000000  \nmean      5.055449     1.956883     2.254679     1.984875     2.003026  \nstd       4.930326     0.438182     0.619027     0.096935     0.097476  \nmin       1.140000     1.140000     1.280000     1.720000     1.740000  \n25%       2.340000     1.640000     1.830000     1.910000     1.930000  \n50%       3.600000     1.880000     2.120000     1.980000     2.000000  \n75%       5.700000     2.180000     2.540000     2.060000     2.080000  \nmax      80.000000     4.400000     7.600000     2.310000     2.370000  \n\n[8 rows x 202 columns]",
      "text/html": "<div>\n<style scoped>\n    .dataframe tbody tr th:only-of-type {\n        vertical-align: middle;\n    }\n\n    .dataframe tbody tr th {\n        vertical-align: top;\n    }\n\n    .dataframe thead th {\n        text-align: right;\n    }\n</style>\n<table border=\"1\" class=\"dataframe\">\n  <thead>\n    <tr style=\"text-align: right;\">\n      <th></th>\n      <th>FTHG</th>\n      <th>FTAG</th>\n      <th>HTHG</th>\n      <th>HTAG</th>\n      <th>Attendance</th>\n      <th>HS</th>\n      <th>AS</th>\n      <th>HST</th>\n      <th>AST</th>\n      <th>HHW</th>\n      <th>...</th>\n      <th>1XBCH</th>\n      <th>1XBCD</th>\n      <th>1XBCA</th>\n      <th>BFECH</th>\n      <th>BFECD</th>\n      <th>BFECA</th>\n      <th>BFEC&gt;2.5</th>\n      <th>BFEC&lt;2.5</th>\n      <th>BFECAHH</th>\n      <th>BFECAHA</th>\n    </tr>\n  </thead>\n  <tbody>\n    <tr>\n      <th>count</th>\n      <td>40509.000000</td>\n      <td>40509.000000</td>\n      <td>40505.000000</td>\n      <td>40505.00000</td>\n      <td>548.000000</td>\n      <td>37061.000000</td>\n      <td>37061.000000</td>\n      <td>36449.000000</td>\n      <td>36449.000000</td>\n      <td>549.000000</td>\n      <td>...</td>\n      <td>1325.000000</td>\n      <td>1325.000000</td>\n      <td>1325.000000</td>\n      <td>1325.000000</td>\n      <td>1325.000000</td>\n      <td>1325.000000</td>\n      <td>1325.000000</td>\n      <td>1325.000000</td>\n      <td>1325.000000</td>\n      <td>1325.000000</td>\n    </tr>\n    <tr>\n      <th>mean</th>\n      <td>1.530030</td>\n      <td>1.164828</td>\n      <td>0.679175</td>\n      <td>0.50853</td>\n      <td>33245.888686</td>\n      <td>13.731092</td>\n      <td>11.058876</td>\n      <td>5.204176</td>\n      <td>4.143159</td>\n      <td>0.369763</td>\n      <td>...</td>\n      <td>2.861343</td>\n      <td>4.165094</td>\n      <td>4.503389</td>\n      <td>2.965192</td>\n      <td>4.265894</td>\n      <td>5.055449</td>\n      <td>1.956883</td>\n      <td>2.254679</td>\n      <td>1.984875</td>\n      <td>2.003026</td>\n    </tr>\n    <tr>\n      <th>std</th>\n      <td>1.284624</td>\n      <td>1.135533</td>\n      <td>0.829326</td>\n      <td>0.72161</td>\n      <td>12407.848187</td>\n      <td>5.177664</td>\n      <td>4.581803</td>\n      <td>2.803673</td>\n      <td>2.442114</td>\n      <td>0.618950</td>\n      <td>...</td>\n      <td>1.794315</td>\n      <td>1.381856</td>\n      <td>3.517573</td>\n      <td>2.083346</td>\n      <td>1.600054</td>\n      <td>4.930326</td>\n      <td>0.438182</td>\n      <td>0.619027</td>\n      <td>0.096935</td>\n      <td>0.097476</td>\n    </tr>\n    <tr>\n      <th>min</th>\n      <td>0.000000</td>\n      <td>0.000000</td>\n      <td>0.000000</td>\n      <td>0.00000</td>\n      <td>14651.000000</td>\n      <td>0.000000</td>\n      <td>0.000000</td>\n      <td>0.000000</td>\n      <td>0.000000</td>\n      <td>0.000000</td>\n      <td>...</td>\n      <td>1.040000</td>\n      <td>2.600000</td>\n      <td>1.180000</td>\n      <td>1.040000</td>\n      <td>2.660000</td>\n      <td>1.140000</td>\n      <td>1.140000</td>\n      <td>1.280000</td>\n      <td>1.720000</td>\n      <td>1.740000</td>\n    </tr>\n    <tr>\n      <th>25%</th>\n      <td>1.000000</td>\n      <td>0.000000</td>\n      <td>0.000000</td>\n      <td>0.00000</td>\n      <td>22523.250000</td>\n      <td>10.000000</td>\n      <td>8.000000</td>\n      <td>3.000000</td>\n      <td>2.000000</td>\n      <td>0.000000</td>\n      <td>...</td>\n      <td>1.700000</td>\n      <td>3.400000</td>\n      <td>2.240000</td>\n      <td>1.720000</td>\n      <td>3.450000</td>\n      <td>2.340000</td>\n      <td>1.640000</td>\n      <td>1.830000</td>\n      <td>1.910000</td>\n      <td>1.930000</td>\n    </tr>\n    <tr>\n      <th>50%</th>\n      <td>1.000000</td>\n      <td>1.000000</td>\n      <td>0.000000</td>\n      <td>0.00000</td>\n      <td>32591.500000</td>\n      <td>13.000000</td>\n      <td>11.000000</td>\n      <td>5.000000</td>\n      <td>4.000000</td>\n      <td>0.000000</td>\n      <td>...</td>\n      <td>2.270000</td>\n      <td>3.760000</td>\n      <td>3.430000</td>\n      <td>2.320000</td>\n      <td>3.750000</td>\n      <td>3.600000</td>\n      <td>1.880000</td>\n      <td>2.120000</td>\n      <td>1.980000</td>\n      <td>2.000000</td>\n    </tr>\n    <tr>\n      <th>75%</th>\n      <td>2.000000</td>\n      <td>2.000000</td>\n      <td>1.000000</td>\n      <td>1.00000</td>\n      <td>39179.000000</td>\n      <td>17.000000</td>\n      <td>14.000000</td>\n      <td>7.000000</td>\n      <td>6.000000</td>\n      <td>1.000000</td>\n      <td>...</td>\n      <td>3.410000</td>\n      <td>4.410000</td>\n      <td>5.350000</td>\n      <td>3.450000</td>\n      <td>4.500000</td>\n      <td>5.700000</td>\n      <td>2.180000</td>\n      <td>2.540000</td>\n      <td>2.060000</td>\n      <td>2.080000</td>\n    </tr>\n    <tr>\n      <th>max</th>\n      <td>10.000000</td>\n      <td>9.000000</td>\n      <td>6.000000</td>\n      <td>6.00000</td>\n      <td>67651.000000</td>\n      <td>46.000000</td>\n      <td>39.000000</td>\n      <td>24.000000</td>\n      <td>20.000000</td>\n      <td>4.000000</td>\n      <td>...</td>\n      <td>16.700000</td>\n      <td>19.000000</td>\n      <td>29.000000</td>\n      <td>26.000000</td>\n      <td>29.000000</td>\n      <td>80.000000</td>\n      <td>4.400000</td>\n      <td>7.600000</td>\n      <td>2.310000</td>\n      <td>2.370000</td>\n    </tr>\n  </tbody>\n</table>\n<p>8 rows × 202 columns</p>\n</div>"
     },
     "execution_count": 2,
     "metadata": {},
     "output_type": "execute_result"
    }
   ],
   "source": [
    "combined_football_data.describe()\n"
   ],
   "metadata": {
    "collapsed": false,
    "ExecuteTime": {
     "end_time": "2025-04-04T21:42:44.123136400Z",
     "start_time": "2025-04-04T21:42:43.806199800Z"
    }
   },
   "id": "7b7f96ab8dcbbeb6"
  },
  {
   "cell_type": "code",
   "execution_count": 3,
   "outputs": [
    {
     "data": {
      "text/plain": "Div            17\nDate          228\nHomeTeam      228\nAwayTeam      228\nFTHG          228\n            ...  \nBFECA       39412\nBFEC>2.5    39412\nBFEC<2.5    39412\nBFECAHH     39412\nBFECAHA     39412\nLength: 212, dtype: int64"
     },
     "execution_count": 3,
     "metadata": {},
     "output_type": "execute_result"
    }
   ],
   "source": [
    "combined_football_data.isnull().sum()"
   ],
   "metadata": {
    "collapsed": false,
    "ExecuteTime": {
     "end_time": "2025-04-04T21:44:13.238416200Z",
     "start_time": "2025-04-04T21:44:13.196198800Z"
    }
   },
   "id": "451b9b2eae878a0a"
  },
  {
   "cell_type": "code",
   "execution_count": null,
   "outputs": [],
   "source": [],
   "metadata": {
    "collapsed": false
   },
   "id": "49c52c3da19f3543"
  }
 ],
 "metadata": {
  "kernelspec": {
   "display_name": "Python 3",
   "language": "python",
   "name": "python3"
  },
  "language_info": {
   "codemirror_mode": {
    "name": "ipython",
    "version": 2
   },
   "file_extension": ".py",
   "mimetype": "text/x-python",
   "name": "python",
   "nbconvert_exporter": "python",
   "pygments_lexer": "ipython2",
   "version": "2.7.6"
  }
 },
 "nbformat": 4,
 "nbformat_minor": 5
}
